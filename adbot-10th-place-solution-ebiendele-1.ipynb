{
 "cells": [
  {
   "cell_type": "markdown",
   "id": "c0c31baa",
   "metadata": {
    "papermill": {
     "duration": 0.008856,
     "end_time": "2024-05-26T23:43:51.675221",
     "exception": false,
     "start_time": "2024-05-26T23:43:51.666365",
     "status": "completed"
    },
    "tags": []
   },
   "source": [
    "   ***NOTE;THIS NOTEBOOK WAS RUNNED ON KAGGLE!!!!***\n",
    "# **Adbot Ad Engagement Forecasting Challenge**\n",
    "Can you predict the future success of a digital advert?\n",
    "\n",
    "https://zindi.africa/competitions/adbot-ad-engagement-forecasting-challenge\n",
    "\n",
    "**Description:**\n",
    "In a digital ecosystem saturated with advertisements, accurately predicting success is pivotal for businesses. Adbot aims to empower its small business clients with actionable insights to refine their ad campaigns and bolster customer engagement.\n",
    "\n",
    "The objective of this challenge is to accurately predict the number of clicks a client’s ad receives, one and two weeks into the future (in digital marketing, clicks refer to when someone views the advert and follows one of the hyperlinks in that advert). Winning solutions will further be required to submit a description of the variables that had the most significant impact on engagement (number of clicks). It is therefore important that the models you build are not only accurate, but also interpretable.\n",
    "\n",
    "Solving this problem holds immense potential for the small African businesses leveraging the Adbot platform. Accurate ad impression and click-through-rate forecasting can revolutionise marketing strategies, enabling businesses to allocate resources effectively and maximise ad campaign ROI. By providing actionable insights, Adbot empowers clients to optimise their advertising efforts, improving customer engagement and driving business growth.\n"
   ]
  },
  {
   "cell_type": "markdown",
   "id": "8dbb2ebc",
   "metadata": {
    "papermill": {
     "duration": 0.007986,
     "end_time": "2024-05-26T23:43:51.691578",
     "exception": false,
     "start_time": "2024-05-26T23:43:51.683592",
     "status": "completed"
    },
    "tags": []
   },
   "source": [
    "Name **Emmanuel Ebiendele**\n",
    "\n",
    "**Username: Ebiendele**\n",
    "\n",
    "Private Leaderboard Rank; **10th**\n",
    "\n",
    "PRIVATE LEADERBOARD SCORE; **13.88451155**\n",
    "\n",
    "PUBLIC LEADERBOARD SCORE; **33.21064205**\n",
    "\n",
    "https://zindi.africa/competitions/adbot-ad-engagement-forecasting-challenge/leaderboard"
   ]
  },
  {
   "cell_type": "markdown",
   "id": "97009124",
   "metadata": {
    "papermill": {
     "duration": 0.007726,
     "end_time": "2024-05-26T23:43:51.707273",
     "exception": false,
     "start_time": "2024-05-26T23:43:51.699547",
     "status": "completed"
    },
    "tags": []
   },
   "source": [
    "# **STEP 1; Importing Library Packages**"
   ]
  },
  {
   "cell_type": "code",
   "execution_count": 1,
   "id": "a3e2da9a",
   "metadata": {
    "execution": {
     "iopub.execute_input": "2024-05-26T23:43:51.725044Z",
     "iopub.status.busy": "2024-05-26T23:43:51.724699Z",
     "iopub.status.idle": "2024-05-26T23:43:54.253423Z",
     "shell.execute_reply": "2024-05-26T23:43:54.252503Z"
    },
    "papermill": {
     "duration": 2.540294,
     "end_time": "2024-05-26T23:43:54.255698",
     "exception": false,
     "start_time": "2024-05-26T23:43:51.715404",
     "status": "completed"
    },
    "tags": []
   },
   "outputs": [],
   "source": [
    "import pandas as pd\n",
    "from datetime import datetime\n",
    "from sklearn.linear_model import LinearRegression\n",
    "import numpy as np\n",
    "from catboost import CatBoostRegressor\n",
    "import xgboost as xgb\n",
    "from sklearn.ensemble import RandomForestRegressor, GradientBoostingRegressor\n",
    "import matplotlib.pyplot as plt\n",
    "from sklearn.ensemble import GradientBoostingRegressor"
   ]
  },
  {
   "cell_type": "markdown",
   "id": "f6d6c8d1",
   "metadata": {
    "papermill": {
     "duration": 0.008244,
     "end_time": "2024-05-26T23:43:54.272408",
     "exception": false,
     "start_time": "2024-05-26T23:43:54.264164",
     "status": "completed"
    },
    "tags": []
   },
   "source": [
    "# **STEP 2; Loading Datasets**"
   ]
  },
  {
   "cell_type": "code",
   "execution_count": 2,
   "id": "2b204e91",
   "metadata": {
    "execution": {
     "iopub.execute_input": "2024-05-26T23:43:54.291440Z",
     "iopub.status.busy": "2024-05-26T23:43:54.291044Z",
     "iopub.status.idle": "2024-05-26T23:43:55.394337Z",
     "shell.execute_reply": "2024-05-26T23:43:55.393487Z"
    },
    "papermill": {
     "duration": 1.115684,
     "end_time": "2024-05-26T23:43:55.396627",
     "exception": false,
     "start_time": "2024-05-26T23:43:54.280943",
     "status": "completed"
    },
    "tags": []
   },
   "outputs": [],
   "source": [
    "# Load the datasets\n",
    "train_data_path = '/kaggle/input/adbotforecasting/Train.csv'\n",
    "sample_submission_path = '/kaggle/input/adbotforecasting/SampleSubmission.csv'\n",
    "\n",
    "train_data = pd.read_csv(train_data_path)\n",
    "sample_submission = pd.read_csv(sample_submission_path)"
   ]
  },
  {
   "cell_type": "markdown",
   "id": "908be000",
   "metadata": {
    "papermill": {
     "duration": 0.008266,
     "end_time": "2024-05-26T23:43:55.413647",
     "exception": false,
     "start_time": "2024-05-26T23:43:55.405381",
     "status": "completed"
    },
    "tags": []
   },
   "source": [
    "# **STEP 3; VIEWING THE DATA**"
   ]
  },
  {
   "cell_type": "code",
   "execution_count": 3,
   "id": "9dab878a",
   "metadata": {
    "execution": {
     "iopub.execute_input": "2024-05-26T23:43:55.431451Z",
     "iopub.status.busy": "2024-05-26T23:43:55.431095Z",
     "iopub.status.idle": "2024-05-26T23:43:55.451442Z",
     "shell.execute_reply": "2024-05-26T23:43:55.450541Z"
    },
    "papermill": {
     "duration": 0.031487,
     "end_time": "2024-05-26T23:43:55.453414",
     "exception": false,
     "start_time": "2024-05-26T23:43:55.421927",
     "status": "completed"
    },
    "tags": []
   },
   "outputs": [
    {
     "data": {
      "text/plain": [
       "(   impressions  clicks    cost  conversions           ad_type currency  \\\n",
       " 0        142.0    15.0  3393.0          0.0  EXPANDED_TEXT_AD      ZAR   \n",
       " 1         89.0     8.0  1817.0          0.0  EXPANDED_TEXT_AD      ZAR   \n",
       " 2         59.0     8.0  1743.0          0.0  EXPANDED_TEXT_AD      ZAR   \n",
       " 3         78.0     4.0   917.0          0.0  EXPANDED_TEXT_AD      ZAR   \n",
       " 4         20.0     1.0   217.0          0.0  EXPANDED_TEXT_AD      ZAR   \n",
       " \n",
       "                             ID        date call_type call_status start_time  \\\n",
       " 0  ID_5da86e71bf5dee4cf5047046  2020-01-01       NaN         NaN        NaN   \n",
       " 1  ID_5da86e71bf5dee4cf5047046  2020-01-01       NaN         NaN        NaN   \n",
       " 2  ID_5da86e71bf5dee4cf5047046  2020-01-01       NaN         NaN        NaN   \n",
       " 3  ID_5da86e71bf5dee4cf5047046  2020-01-01       NaN         NaN        NaN   \n",
       " 4  ID_5da86e71bf5dee4cf5047046  2020-01-01       NaN         NaN        NaN   \n",
       " \n",
       "    duration end_time display_location  impression_share  conversions_calls  \\\n",
       " 0       NaN      NaN              NaN         16.279669                0.0   \n",
       " 1       NaN      NaN              NaN         16.279669                0.0   \n",
       " 2       NaN      NaN              NaN         16.279669                0.0   \n",
       " 3       NaN      NaN              NaN         16.279669                0.0   \n",
       " 4       NaN      NaN              NaN         16.279669                0.0   \n",
       " \n",
       "    headline1_len  headline2_len  ad_description_len  \n",
       " 0            2.0            5.0                11.0  \n",
       " 1            2.0            2.0                13.0  \n",
       " 2            2.0            2.0                10.0  \n",
       " 3            2.0            3.0                13.0  \n",
       " 4            2.0            2.0                13.0  ,\n",
       "                                        ID  clicks\n",
       " 0  ID_5da86e71bf5dee4cf5047046_2024_01_22       0\n",
       " 1  ID_5da86e71bf5dee4cf5047046_2024_01_29       0\n",
       " 2  ID_5e43c29e6279884e2827d894_2024_02_21       0\n",
       " 3  ID_5e43c29e6279884e2827d894_2024_02_28       0\n",
       " 4  ID_5e4e7b480e374330ee151305_2023_12_04       0)"
      ]
     },
     "execution_count": 3,
     "metadata": {},
     "output_type": "execute_result"
    }
   ],
   "source": [
    "# Display the first few rows of each dataset to understand their structure\n",
    "train_data.head(), sample_submission.head()"
   ]
  },
  {
   "cell_type": "markdown",
   "id": "ff8fb468",
   "metadata": {
    "papermill": {
     "duration": 0.008373,
     "end_time": "2024-05-26T23:43:55.470658",
     "exception": false,
     "start_time": "2024-05-26T23:43:55.462285",
     "status": "completed"
    },
    "tags": []
   },
   "source": [
    "# **STEP 4: Data Aggregation**"
   ]
  },
  {
   "cell_type": "code",
   "execution_count": 4,
   "id": "dcea5d41",
   "metadata": {
    "execution": {
     "iopub.execute_input": "2024-05-26T23:43:55.489285Z",
     "iopub.status.busy": "2024-05-26T23:43:55.488335Z",
     "iopub.status.idle": "2024-05-26T23:43:55.585648Z",
     "shell.execute_reply": "2024-05-26T23:43:55.584444Z"
    },
    "papermill": {
     "duration": 0.108889,
     "end_time": "2024-05-26T23:43:55.587851",
     "exception": false,
     "start_time": "2024-05-26T23:43:55.478962",
     "status": "completed"
    },
    "tags": []
   },
   "outputs": [
    {
     "data": {
      "text/html": [
       "<div>\n",
       "<style scoped>\n",
       "    .dataframe tbody tr th:only-of-type {\n",
       "        vertical-align: middle;\n",
       "    }\n",
       "\n",
       "    .dataframe tbody tr th {\n",
       "        vertical-align: top;\n",
       "    }\n",
       "\n",
       "    .dataframe thead th {\n",
       "        text-align: right;\n",
       "    }\n",
       "</style>\n",
       "<table border=\"1\" class=\"dataframe\">\n",
       "  <thead>\n",
       "    <tr style=\"text-align: right;\">\n",
       "      <th></th>\n",
       "      <th>ID</th>\n",
       "      <th>date</th>\n",
       "      <th>clicks</th>\n",
       "    </tr>\n",
       "  </thead>\n",
       "  <tbody>\n",
       "    <tr>\n",
       "      <th>0</th>\n",
       "      <td>ID_5da86e71bf5dee4cf5047046</td>\n",
       "      <td>2020-01-01</td>\n",
       "      <td>36.0</td>\n",
       "    </tr>\n",
       "    <tr>\n",
       "      <th>1</th>\n",
       "      <td>ID_5da86e71bf5dee4cf5047046</td>\n",
       "      <td>2020-01-02</td>\n",
       "      <td>50.0</td>\n",
       "    </tr>\n",
       "    <tr>\n",
       "      <th>2</th>\n",
       "      <td>ID_5da86e71bf5dee4cf5047046</td>\n",
       "      <td>2020-01-03</td>\n",
       "      <td>54.0</td>\n",
       "    </tr>\n",
       "    <tr>\n",
       "      <th>3</th>\n",
       "      <td>ID_5da86e71bf5dee4cf5047046</td>\n",
       "      <td>2020-01-04</td>\n",
       "      <td>47.0</td>\n",
       "    </tr>\n",
       "    <tr>\n",
       "      <th>4</th>\n",
       "      <td>ID_5da86e71bf5dee4cf5047046</td>\n",
       "      <td>2020-01-05</td>\n",
       "      <td>59.0</td>\n",
       "    </tr>\n",
       "  </tbody>\n",
       "</table>\n",
       "</div>"
      ],
      "text/plain": [
       "                            ID        date  clicks\n",
       "0  ID_5da86e71bf5dee4cf5047046  2020-01-01    36.0\n",
       "1  ID_5da86e71bf5dee4cf5047046  2020-01-02    50.0\n",
       "2  ID_5da86e71bf5dee4cf5047046  2020-01-03    54.0\n",
       "3  ID_5da86e71bf5dee4cf5047046  2020-01-04    47.0\n",
       "4  ID_5da86e71bf5dee4cf5047046  2020-01-05    59.0"
      ]
     },
     "execution_count": 4,
     "metadata": {},
     "output_type": "execute_result"
    }
   ],
   "source": [
    "# Aggregating the train data by ID and date\n",
    "aggregated_data = train_data.groupby(['ID', 'date']).agg({'clicks': 'sum'}).reset_index()\n",
    "\n",
    "# Checking the aggregated data\n",
    "aggregated_data.head()"
   ]
  },
  {
   "cell_type": "markdown",
   "id": "5829b49a",
   "metadata": {
    "papermill": {
     "duration": 0.008565,
     "end_time": "2024-05-26T23:43:55.605198",
     "exception": false,
     "start_time": "2024-05-26T23:43:55.596633",
     "status": "completed"
    },
    "tags": []
   },
   "source": [
    "Aggregates the training data by 'ID' and 'date' columns, summing up the 'clicks', and displays the aggregated data."
   ]
  },
  {
   "cell_type": "markdown",
   "id": "3236f024",
   "metadata": {
    "papermill": {
     "duration": 0.008565,
     "end_time": "2024-05-26T23:43:55.622390",
     "exception": false,
     "start_time": "2024-05-26T23:43:55.613825",
     "status": "completed"
    },
    "tags": []
   },
   "source": [
    "# **STEP 5; Converts the 'date' column in the aggregated data to datetime format**"
   ]
  },
  {
   "cell_type": "code",
   "execution_count": 5,
   "id": "d075b3ab",
   "metadata": {
    "execution": {
     "iopub.execute_input": "2024-05-26T23:43:55.641933Z",
     "iopub.status.busy": "2024-05-26T23:43:55.641185Z",
     "iopub.status.idle": "2024-05-26T23:43:55.672124Z",
     "shell.execute_reply": "2024-05-26T23:43:55.671224Z"
    },
    "papermill": {
     "duration": 0.04277,
     "end_time": "2024-05-26T23:43:55.673972",
     "exception": false,
     "start_time": "2024-05-26T23:43:55.631202",
     "status": "completed"
    },
    "tags": []
   },
   "outputs": [
    {
     "data": {
      "text/html": [
       "<div>\n",
       "<style scoped>\n",
       "    .dataframe tbody tr th:only-of-type {\n",
       "        vertical-align: middle;\n",
       "    }\n",
       "\n",
       "    .dataframe tbody tr th {\n",
       "        vertical-align: top;\n",
       "    }\n",
       "\n",
       "    .dataframe thead th {\n",
       "        text-align: right;\n",
       "    }\n",
       "</style>\n",
       "<table border=\"1\" class=\"dataframe\">\n",
       "  <thead>\n",
       "    <tr style=\"text-align: right;\">\n",
       "      <th></th>\n",
       "      <th>ID</th>\n",
       "      <th>clicks</th>\n",
       "    </tr>\n",
       "  </thead>\n",
       "  <tbody>\n",
       "    <tr>\n",
       "      <th>0</th>\n",
       "      <td>ID_5da86e71bf5dee4cf5047046_2024_01_22</td>\n",
       "      <td>0</td>\n",
       "    </tr>\n",
       "    <tr>\n",
       "      <th>1</th>\n",
       "      <td>ID_5da86e71bf5dee4cf5047046_2024_01_29</td>\n",
       "      <td>0</td>\n",
       "    </tr>\n",
       "    <tr>\n",
       "      <th>2</th>\n",
       "      <td>ID_5e43c29e6279884e2827d894_2024_02_21</td>\n",
       "      <td>0</td>\n",
       "    </tr>\n",
       "    <tr>\n",
       "      <th>3</th>\n",
       "      <td>ID_5e43c29e6279884e2827d894_2024_02_28</td>\n",
       "      <td>0</td>\n",
       "    </tr>\n",
       "    <tr>\n",
       "      <th>4</th>\n",
       "      <td>ID_5e4e7b480e374330ee151305_2023_12_04</td>\n",
       "      <td>0</td>\n",
       "    </tr>\n",
       "  </tbody>\n",
       "</table>\n",
       "</div>"
      ],
      "text/plain": [
       "                                       ID  clicks\n",
       "0  ID_5da86e71bf5dee4cf5047046_2024_01_22       0\n",
       "1  ID_5da86e71bf5dee4cf5047046_2024_01_29       0\n",
       "2  ID_5e43c29e6279884e2827d894_2024_02_21       0\n",
       "3  ID_5e43c29e6279884e2827d894_2024_02_28       0\n",
       "4  ID_5e4e7b480e374330ee151305_2023_12_04       0"
      ]
     },
     "execution_count": 5,
     "metadata": {},
     "output_type": "execute_result"
    }
   ],
   "source": [
    "from datetime import datetime\n",
    "\n",
    "# Convert 'date' columns to datetime for both datasets\n",
    "aggregated_data['date'] = pd.to_datetime(aggregated_data['date'])\n",
    "#sample_submission['date'] = sample_submission['ID'].apply(lambda x: datetime.strptime(x.split('_')[-1], \"%Y_%m_%d\"))\n",
    "\n",
    "# Add the pure ID to the sample submission for merging purposes\n",
    "#sample_submission['pure_id'] = sample_submission['ID'].apply(lambda x: '_'.join(x.split('_')[:-3]))\n",
    "\n",
    "# Check the transformation and creation of new columns\n",
    "sample_submission.head()"
   ]
  },
  {
   "cell_type": "code",
   "execution_count": 6,
   "id": "5b48d41e",
   "metadata": {
    "execution": {
     "iopub.execute_input": "2024-05-26T23:43:55.694831Z",
     "iopub.status.busy": "2024-05-26T23:43:55.694099Z",
     "iopub.status.idle": "2024-05-26T23:43:55.700937Z",
     "shell.execute_reply": "2024-05-26T23:43:55.700047Z"
    },
    "papermill": {
     "duration": 0.018912,
     "end_time": "2024-05-26T23:43:55.703159",
     "exception": false,
     "start_time": "2024-05-26T23:43:55.684247",
     "status": "completed"
    },
    "tags": []
   },
   "outputs": [
    {
     "data": {
      "text/plain": [
       "0    ID_5da86e71bf5dee4cf5047046_2024_01_22\n",
       "1    ID_5da86e71bf5dee4cf5047046_2024_01_29\n",
       "2    ID_5e43c29e6279884e2827d894_2024_02_21\n",
       "3    ID_5e43c29e6279884e2827d894_2024_02_28\n",
       "4    ID_5e4e7b480e374330ee151305_2023_12_04\n",
       "Name: ID, dtype: object"
      ]
     },
     "execution_count": 6,
     "metadata": {},
     "output_type": "execute_result"
    }
   ],
   "source": [
    "# Show some sample IDs from the sample submission file to check the date format\n",
    "sample_submission['ID'].head()"
   ]
  },
  {
   "cell_type": "markdown",
   "id": "f73aeb75",
   "metadata": {
    "papermill": {
     "duration": 0.008795,
     "end_time": "2024-05-26T23:43:55.720800",
     "exception": false,
     "start_time": "2024-05-26T23:43:55.712005",
     "status": "completed"
    },
    "tags": []
   },
   "source": [
    "# **STEP 6; parse the date from the ID**"
   ]
  },
  {
   "cell_type": "code",
   "execution_count": 7,
   "id": "2b4d6572",
   "metadata": {
    "execution": {
     "iopub.execute_input": "2024-05-26T23:43:55.740363Z",
     "iopub.status.busy": "2024-05-26T23:43:55.739988Z",
     "iopub.status.idle": "2024-05-26T23:43:55.759544Z",
     "shell.execute_reply": "2024-05-26T23:43:55.758540Z"
    },
    "papermill": {
     "duration": 0.032265,
     "end_time": "2024-05-26T23:43:55.761801",
     "exception": false,
     "start_time": "2024-05-26T23:43:55.729536",
     "status": "completed"
    },
    "tags": []
   },
   "outputs": [
    {
     "data": {
      "text/html": [
       "<div>\n",
       "<style scoped>\n",
       "    .dataframe tbody tr th:only-of-type {\n",
       "        vertical-align: middle;\n",
       "    }\n",
       "\n",
       "    .dataframe tbody tr th {\n",
       "        vertical-align: top;\n",
       "    }\n",
       "\n",
       "    .dataframe thead th {\n",
       "        text-align: right;\n",
       "    }\n",
       "</style>\n",
       "<table border=\"1\" class=\"dataframe\">\n",
       "  <thead>\n",
       "    <tr style=\"text-align: right;\">\n",
       "      <th></th>\n",
       "      <th>ID</th>\n",
       "      <th>clicks</th>\n",
       "      <th>date</th>\n",
       "      <th>pure_id</th>\n",
       "    </tr>\n",
       "  </thead>\n",
       "  <tbody>\n",
       "    <tr>\n",
       "      <th>0</th>\n",
       "      <td>ID_5da86e71bf5dee4cf5047046_2024_01_22</td>\n",
       "      <td>0</td>\n",
       "      <td>2024-01-22</td>\n",
       "      <td>ID_5da86e71bf5dee4cf5047046</td>\n",
       "    </tr>\n",
       "    <tr>\n",
       "      <th>1</th>\n",
       "      <td>ID_5da86e71bf5dee4cf5047046_2024_01_29</td>\n",
       "      <td>0</td>\n",
       "      <td>2024-01-29</td>\n",
       "      <td>ID_5da86e71bf5dee4cf5047046</td>\n",
       "    </tr>\n",
       "    <tr>\n",
       "      <th>2</th>\n",
       "      <td>ID_5e43c29e6279884e2827d894_2024_02_21</td>\n",
       "      <td>0</td>\n",
       "      <td>2024-02-21</td>\n",
       "      <td>ID_5e43c29e6279884e2827d894</td>\n",
       "    </tr>\n",
       "    <tr>\n",
       "      <th>3</th>\n",
       "      <td>ID_5e43c29e6279884e2827d894_2024_02_28</td>\n",
       "      <td>0</td>\n",
       "      <td>2024-02-28</td>\n",
       "      <td>ID_5e43c29e6279884e2827d894</td>\n",
       "    </tr>\n",
       "    <tr>\n",
       "      <th>4</th>\n",
       "      <td>ID_5e4e7b480e374330ee151305_2023_12_04</td>\n",
       "      <td>0</td>\n",
       "      <td>2023-12-04</td>\n",
       "      <td>ID_5e4e7b480e374330ee151305</td>\n",
       "    </tr>\n",
       "  </tbody>\n",
       "</table>\n",
       "</div>"
      ],
      "text/plain": [
       "                                       ID  clicks       date  \\\n",
       "0  ID_5da86e71bf5dee4cf5047046_2024_01_22       0 2024-01-22   \n",
       "1  ID_5da86e71bf5dee4cf5047046_2024_01_29       0 2024-01-29   \n",
       "2  ID_5e43c29e6279884e2827d894_2024_02_21       0 2024-02-21   \n",
       "3  ID_5e43c29e6279884e2827d894_2024_02_28       0 2024-02-28   \n",
       "4  ID_5e4e7b480e374330ee151305_2023_12_04       0 2023-12-04   \n",
       "\n",
       "                       pure_id  \n",
       "0  ID_5da86e71bf5dee4cf5047046  \n",
       "1  ID_5da86e71bf5dee4cf5047046  \n",
       "2  ID_5e43c29e6279884e2827d894  \n",
       "3  ID_5e43c29e6279884e2827d894  \n",
       "4  ID_5e4e7b480e374330ee151305  "
      ]
     },
     "execution_count": 7,
     "metadata": {},
     "output_type": "execute_result"
    }
   ],
   "source": [
    "# Correctly parse the date from the ID\n",
    "sample_submission['date'] = sample_submission['ID'].apply(lambda x: datetime.strptime('_'.join(x.split('_')[-3:]), \"%Y_%m_%d\"))\n",
    "\n",
    "# Add the pure ID to the sample submission for merging purposes\n",
    "sample_submission['pure_id'] = sample_submission['ID'].apply(lambda x: '_'.join(x.split('_')[:-3]))\n",
    "\n",
    "# Display the transformed sample submission\n",
    "sample_submission.head()"
   ]
  },
  {
   "cell_type": "markdown",
   "id": "1ca6157f",
   "metadata": {
    "papermill": {
     "duration": 0.009803,
     "end_time": "2024-05-26T23:43:55.781998",
     "exception": false,
     "start_time": "2024-05-26T23:43:55.772195",
     "status": "completed"
    },
    "tags": []
   },
   "source": [
    "# **STEP 7; MODELLING**"
   ]
  },
  {
   "cell_type": "code",
   "execution_count": 8,
   "id": "f2a1c7a6",
   "metadata": {
    "execution": {
     "iopub.execute_input": "2024-05-26T23:43:55.803329Z",
     "iopub.status.busy": "2024-05-26T23:43:55.802445Z",
     "iopub.status.idle": "2024-05-26T23:44:06.705309Z",
     "shell.execute_reply": "2024-05-26T23:44:06.704343Z"
    },
    "papermill": {
     "duration": 10.916186,
     "end_time": "2024-05-26T23:44:06.707616",
     "exception": false,
     "start_time": "2024-05-26T23:43:55.791430",
     "status": "completed"
    },
    "tags": []
   },
   "outputs": [
    {
     "data": {
      "text/html": [
       "<div>\n",
       "<style scoped>\n",
       "    .dataframe tbody tr th:only-of-type {\n",
       "        vertical-align: middle;\n",
       "    }\n",
       "\n",
       "    .dataframe tbody tr th {\n",
       "        vertical-align: top;\n",
       "    }\n",
       "\n",
       "    .dataframe thead th {\n",
       "        text-align: right;\n",
       "    }\n",
       "</style>\n",
       "<table border=\"1\" class=\"dataframe\">\n",
       "  <thead>\n",
       "    <tr style=\"text-align: right;\">\n",
       "      <th></th>\n",
       "      <th>ID</th>\n",
       "      <th>clicks</th>\n",
       "      <th>date</th>\n",
       "      <th>pure_id</th>\n",
       "      <th>predicted_clicks</th>\n",
       "    </tr>\n",
       "  </thead>\n",
       "  <tbody>\n",
       "    <tr>\n",
       "      <th>0</th>\n",
       "      <td>ID_5da86e71bf5dee4cf5047046_2024_01_22</td>\n",
       "      <td>0</td>\n",
       "      <td>2024-01-22</td>\n",
       "      <td>ID_5da86e71bf5dee4cf5047046</td>\n",
       "      <td>100</td>\n",
       "    </tr>\n",
       "    <tr>\n",
       "      <th>1</th>\n",
       "      <td>ID_5da86e71bf5dee4cf5047046_2024_01_29</td>\n",
       "      <td>0</td>\n",
       "      <td>2024-01-29</td>\n",
       "      <td>ID_5da86e71bf5dee4cf5047046</td>\n",
       "      <td>100</td>\n",
       "    </tr>\n",
       "    <tr>\n",
       "      <th>2</th>\n",
       "      <td>ID_5e43c29e6279884e2827d894_2024_02_21</td>\n",
       "      <td>0</td>\n",
       "      <td>2024-02-21</td>\n",
       "      <td>ID_5e43c29e6279884e2827d894</td>\n",
       "      <td>4</td>\n",
       "    </tr>\n",
       "    <tr>\n",
       "      <th>3</th>\n",
       "      <td>ID_5e43c29e6279884e2827d894_2024_02_28</td>\n",
       "      <td>0</td>\n",
       "      <td>2024-02-28</td>\n",
       "      <td>ID_5e43c29e6279884e2827d894</td>\n",
       "      <td>4</td>\n",
       "    </tr>\n",
       "    <tr>\n",
       "      <th>4</th>\n",
       "      <td>ID_5e4e7b480e374330ee151305_2023_12_04</td>\n",
       "      <td>0</td>\n",
       "      <td>2023-12-04</td>\n",
       "      <td>ID_5e4e7b480e374330ee151305</td>\n",
       "      <td>4</td>\n",
       "    </tr>\n",
       "  </tbody>\n",
       "</table>\n",
       "</div>"
      ],
      "text/plain": [
       "                                       ID  clicks       date  \\\n",
       "0  ID_5da86e71bf5dee4cf5047046_2024_01_22       0 2024-01-22   \n",
       "1  ID_5da86e71bf5dee4cf5047046_2024_01_29       0 2024-01-29   \n",
       "2  ID_5e43c29e6279884e2827d894_2024_02_21       0 2024-02-21   \n",
       "3  ID_5e43c29e6279884e2827d894_2024_02_28       0 2024-02-28   \n",
       "4  ID_5e4e7b480e374330ee151305_2023_12_04       0 2023-12-04   \n",
       "\n",
       "                       pure_id  predicted_clicks  \n",
       "0  ID_5da86e71bf5dee4cf5047046               100  \n",
       "1  ID_5da86e71bf5dee4cf5047046               100  \n",
       "2  ID_5e43c29e6279884e2827d894                 4  \n",
       "3  ID_5e43c29e6279884e2827d894                 4  \n",
       "4  ID_5e4e7b480e374330ee151305                 4  "
      ]
     },
     "execution_count": 8,
     "metadata": {},
     "output_type": "execute_result"
    }
   ],
   "source": [
    "from sklearn.linear_model import LinearRegression\n",
    "from sklearn.model_selection import train_test_split\n",
    "import numpy as np\n",
    "\n",
    "# Prepare the data for the model\n",
    "# Convert date to ordinal to use as a feature\n",
    "aggregated_data['date_ordinal'] = aggregated_data['date'].apply(lambda x: x.toordinal())\n",
    "\n",
    "# Extract only IDs present in the sample submission\n",
    "ids_in_submission = sample_submission['pure_id'].unique()\n",
    "filtered_data = aggregated_data[aggregated_data['ID'].isin(ids_in_submission)]\n",
    "\n",
    "# Model training\n",
    "# As IDs could have different patterns, we will create a model per ID, then predict accordingly\n",
    "models = {}\n",
    "for id_value in ids_in_submission:\n",
    "    data_subset = filtered_data[filtered_data['ID'] == id_value]\n",
    "    if len(data_subset) > 1:  # Ensure there's enough data to fit a model\n",
    "        X = data_subset[['date_ordinal']]\n",
    "        y = data_subset['clicks']\n",
    "        model = CatBoostRegressor(n_estimators =45,learning_rate = 0.04, verbose=0, random_state=42)\n",
    "        model.fit(X, y)\n",
    "        models[id_value] = model\n",
    "\n",
    "# Function to forecast clicks\n",
    "def forecast_clicks(row):\n",
    "    model = models.get(row['pure_id'])\n",
    "    if model:\n",
    "        prediction = model.predict(np.array([[row['date'].toordinal()]]))\n",
    "        return int(prediction[0])\n",
    "    return 0  # Default to 0 if no model is found for the ID\n",
    "\n",
    "# Apply forecast to the sample submission data\n",
    "sample_submission['predicted_clicks'] = sample_submission.apply(forecast_clicks, axis=1)\n",
    "sample_submission.head()"
   ]
  },
  {
   "cell_type": "code",
   "execution_count": 9,
   "id": "312987aa",
   "metadata": {
    "execution": {
     "iopub.execute_input": "2024-05-26T23:44:06.730002Z",
     "iopub.status.busy": "2024-05-26T23:44:06.729253Z",
     "iopub.status.idle": "2024-05-26T23:44:06.738323Z",
     "shell.execute_reply": "2024-05-26T23:44:06.737524Z"
    },
    "papermill": {
     "duration": 0.022128,
     "end_time": "2024-05-26T23:44:06.740443",
     "exception": false,
     "start_time": "2024-05-26T23:44:06.718315",
     "status": "completed"
    },
    "tags": []
   },
   "outputs": [],
   "source": [
    "submission = pd.DataFrame({\"ID\":sample_submission['ID'], \"Clicks\": sample_submission['predicted_clicks']})\n",
    "submission.to_csv(\"winpred_1s_t_0_1_eb.csv\", index=False)"
   ]
  },
  {
   "cell_type": "code",
   "execution_count": 10,
   "id": "38d1f7c0",
   "metadata": {
    "execution": {
     "iopub.execute_input": "2024-05-26T23:44:06.760904Z",
     "iopub.status.busy": "2024-05-26T23:44:06.760240Z",
     "iopub.status.idle": "2024-05-26T23:44:06.769142Z",
     "shell.execute_reply": "2024-05-26T23:44:06.768282Z"
    },
    "papermill": {
     "duration": 0.021525,
     "end_time": "2024-05-26T23:44:06.771330",
     "exception": false,
     "start_time": "2024-05-26T23:44:06.749805",
     "status": "completed"
    },
    "tags": []
   },
   "outputs": [
    {
     "data": {
      "text/html": [
       "<div>\n",
       "<style scoped>\n",
       "    .dataframe tbody tr th:only-of-type {\n",
       "        vertical-align: middle;\n",
       "    }\n",
       "\n",
       "    .dataframe tbody tr th {\n",
       "        vertical-align: top;\n",
       "    }\n",
       "\n",
       "    .dataframe thead th {\n",
       "        text-align: right;\n",
       "    }\n",
       "</style>\n",
       "<table border=\"1\" class=\"dataframe\">\n",
       "  <thead>\n",
       "    <tr style=\"text-align: right;\">\n",
       "      <th></th>\n",
       "      <th>ID</th>\n",
       "      <th>Clicks</th>\n",
       "    </tr>\n",
       "  </thead>\n",
       "  <tbody>\n",
       "    <tr>\n",
       "      <th>0</th>\n",
       "      <td>ID_5da86e71bf5dee4cf5047046_2024_01_22</td>\n",
       "      <td>100</td>\n",
       "    </tr>\n",
       "    <tr>\n",
       "      <th>1</th>\n",
       "      <td>ID_5da86e71bf5dee4cf5047046_2024_01_29</td>\n",
       "      <td>100</td>\n",
       "    </tr>\n",
       "    <tr>\n",
       "      <th>2</th>\n",
       "      <td>ID_5e43c29e6279884e2827d894_2024_02_21</td>\n",
       "      <td>4</td>\n",
       "    </tr>\n",
       "    <tr>\n",
       "      <th>3</th>\n",
       "      <td>ID_5e43c29e6279884e2827d894_2024_02_28</td>\n",
       "      <td>4</td>\n",
       "    </tr>\n",
       "    <tr>\n",
       "      <th>4</th>\n",
       "      <td>ID_5e4e7b480e374330ee151305_2023_12_04</td>\n",
       "      <td>4</td>\n",
       "    </tr>\n",
       "  </tbody>\n",
       "</table>\n",
       "</div>"
      ],
      "text/plain": [
       "                                       ID  Clicks\n",
       "0  ID_5da86e71bf5dee4cf5047046_2024_01_22     100\n",
       "1  ID_5da86e71bf5dee4cf5047046_2024_01_29     100\n",
       "2  ID_5e43c29e6279884e2827d894_2024_02_21       4\n",
       "3  ID_5e43c29e6279884e2827d894_2024_02_28       4\n",
       "4  ID_5e4e7b480e374330ee151305_2023_12_04       4"
      ]
     },
     "execution_count": 10,
     "metadata": {},
     "output_type": "execute_result"
    }
   ],
   "source": [
    "submission.head()"
   ]
  },
  {
   "cell_type": "markdown",
   "id": "df59f4f5",
   "metadata": {
    "papermill": {
     "duration": 0.009146,
     "end_time": "2024-05-26T23:44:06.789957",
     "exception": false,
     "start_time": "2024-05-26T23:44:06.780811",
     "status": "completed"
    },
    "tags": []
   },
   "source": [
    "# **SENSITIVITY ANALYSIS**"
   ]
  },
  {
   "cell_type": "code",
   "execution_count": 11,
   "id": "5a0ba708",
   "metadata": {
    "execution": {
     "iopub.execute_input": "2024-05-26T23:44:06.811077Z",
     "iopub.status.busy": "2024-05-26T23:44:06.810426Z",
     "iopub.status.idle": "2024-05-26T23:44:07.729337Z",
     "shell.execute_reply": "2024-05-26T23:44:07.728292Z"
    },
    "papermill": {
     "duration": 0.932328,
     "end_time": "2024-05-26T23:44:07.732069",
     "exception": false,
     "start_time": "2024-05-26T23:44:06.799741",
     "status": "completed"
    },
    "tags": []
   },
   "outputs": [
    {
     "name": "stdout",
     "output_type": "stream",
     "text": [
      "<class 'pandas.core.frame.DataFrame'>\n",
      "RangeIndex: 289926 entries, 0 to 289925\n",
      "Data columns (total 19 columns):\n",
      " #   Column              Non-Null Count   Dtype  \n",
      "---  ------              --------------   -----  \n",
      " 0   impressions         289526 non-null  float64\n",
      " 1   clicks              289526 non-null  float64\n",
      " 2   cost                289526 non-null  float64\n",
      " 3   conversions         289526 non-null  float64\n",
      " 4   ad_type             289526 non-null  object \n",
      " 5   currency            289526 non-null  object \n",
      " 6   ID                  289926 non-null  object \n",
      " 7   date                289926 non-null  object \n",
      " 8   call_type           36900 non-null   object \n",
      " 9   call_status         36900 non-null   object \n",
      " 10  start_time          36900 non-null   object \n",
      " 11  duration            36900 non-null   float64\n",
      " 12  end_time            36900 non-null   object \n",
      " 13  display_location    36900 non-null   object \n",
      " 14  impression_share    289926 non-null  float64\n",
      " 15  conversions_calls   280071 non-null  float64\n",
      " 16  headline1_len       289526 non-null  float64\n",
      " 17  headline2_len       289526 non-null  float64\n",
      " 18  ad_description_len  289526 non-null  float64\n",
      "dtypes: float64(10), object(9)\n",
      "memory usage: 42.0+ MB\n"
     ]
    },
    {
     "data": {
      "text/plain": [
       "(   impressions  clicks    cost  conversions           ad_type currency  \\\n",
       " 0        142.0    15.0  3393.0          0.0  EXPANDED_TEXT_AD      ZAR   \n",
       " 1         89.0     8.0  1817.0          0.0  EXPANDED_TEXT_AD      ZAR   \n",
       " 2         59.0     8.0  1743.0          0.0  EXPANDED_TEXT_AD      ZAR   \n",
       " 3         78.0     4.0   917.0          0.0  EXPANDED_TEXT_AD      ZAR   \n",
       " 4         20.0     1.0   217.0          0.0  EXPANDED_TEXT_AD      ZAR   \n",
       " \n",
       "                             ID        date call_type call_status start_time  \\\n",
       " 0  ID_5da86e71bf5dee4cf5047046  2020-01-01       NaN         NaN        NaN   \n",
       " 1  ID_5da86e71bf5dee4cf5047046  2020-01-01       NaN         NaN        NaN   \n",
       " 2  ID_5da86e71bf5dee4cf5047046  2020-01-01       NaN         NaN        NaN   \n",
       " 3  ID_5da86e71bf5dee4cf5047046  2020-01-01       NaN         NaN        NaN   \n",
       " 4  ID_5da86e71bf5dee4cf5047046  2020-01-01       NaN         NaN        NaN   \n",
       " \n",
       "    duration end_time display_location  impression_share  conversions_calls  \\\n",
       " 0       NaN      NaN              NaN         16.279669                0.0   \n",
       " 1       NaN      NaN              NaN         16.279669                0.0   \n",
       " 2       NaN      NaN              NaN         16.279669                0.0   \n",
       " 3       NaN      NaN              NaN         16.279669                0.0   \n",
       " 4       NaN      NaN              NaN         16.279669                0.0   \n",
       " \n",
       "    headline1_len  headline2_len  ad_description_len  \n",
       " 0            2.0            5.0                11.0  \n",
       " 1            2.0            2.0                13.0  \n",
       " 2            2.0            2.0                10.0  \n",
       " 3            2.0            3.0                13.0  \n",
       " 4            2.0            2.0                13.0  ,\n",
       " None)"
      ]
     },
     "execution_count": 11,
     "metadata": {},
     "output_type": "execute_result"
    }
   ],
   "source": [
    "import pandas as pd\n",
    "\n",
    "# Load the Train.csv file\n",
    "train_data_path = '/kaggle/input/adbotforecasting/Train.csv'\n",
    "train_data = pd.read_csv(train_data_path)\n",
    "\n",
    "# Display the first few rows and the structure of the data\n",
    "train_data.head(), train_data.info()"
   ]
  },
  {
   "cell_type": "markdown",
   "id": "1f9ed658",
   "metadata": {
    "papermill": {
     "duration": 0.009725,
     "end_time": "2024-05-26T23:44:07.751789",
     "exception": false,
     "start_time": "2024-05-26T23:44:07.742064",
     "status": "completed"
    },
    "tags": []
   },
   "source": [
    "The data includes the following columns with a variety of data types and some missing values:\n",
    "\n",
    "Numerical: impressions, clicks, cost, conversions, duration, impression_share, conversions_calls, headline1_len, headline2_len, ad_description_len\n",
    "Categorical: ad_type, currency, call_type, call_status, display_location\n",
    "ID and Time: ID, date, start_time, end_time\n",
    "\n",
    "Next, I will aggregate this data by ID and all other available features. This involves grouping by ID and aggregating numerical columns such as impressions, clicks, cost, etc. I'll also handle missing values appropriately, either by filling or excluding them based on their impact."
   ]
  },
  {
   "cell_type": "code",
   "execution_count": 12,
   "id": "25f9d306",
   "metadata": {
    "execution": {
     "iopub.execute_input": "2024-05-26T23:44:07.773119Z",
     "iopub.status.busy": "2024-05-26T23:44:07.772783Z",
     "iopub.status.idle": "2024-05-26T23:44:07.849208Z",
     "shell.execute_reply": "2024-05-26T23:44:07.848296Z"
    },
    "papermill": {
     "duration": 0.089793,
     "end_time": "2024-05-26T23:44:07.851453",
     "exception": false,
     "start_time": "2024-05-26T23:44:07.761660",
     "status": "completed"
    },
    "tags": []
   },
   "outputs": [
    {
     "data": {
      "text/html": [
       "<div>\n",
       "<style scoped>\n",
       "    .dataframe tbody tr th:only-of-type {\n",
       "        vertical-align: middle;\n",
       "    }\n",
       "\n",
       "    .dataframe tbody tr th {\n",
       "        vertical-align: top;\n",
       "    }\n",
       "\n",
       "    .dataframe thead th {\n",
       "        text-align: right;\n",
       "    }\n",
       "</style>\n",
       "<table border=\"1\" class=\"dataframe\">\n",
       "  <thead>\n",
       "    <tr style=\"text-align: right;\">\n",
       "      <th></th>\n",
       "      <th>ID</th>\n",
       "      <th>impressions</th>\n",
       "      <th>clicks</th>\n",
       "      <th>cost</th>\n",
       "      <th>conversions</th>\n",
       "      <th>duration</th>\n",
       "      <th>impression_share</th>\n",
       "      <th>conversions_calls</th>\n",
       "      <th>headline1_len</th>\n",
       "      <th>headline2_len</th>\n",
       "      <th>ad_description_len</th>\n",
       "    </tr>\n",
       "  </thead>\n",
       "  <tbody>\n",
       "    <tr>\n",
       "      <th>0</th>\n",
       "      <td>ID_5da86e71bf5dee4cf5047046</td>\n",
       "      <td>1366246.0</td>\n",
       "      <td>117103.0</td>\n",
       "      <td>19151427.0</td>\n",
       "      <td>68.0</td>\n",
       "      <td>70766.0</td>\n",
       "      <td>17.920390</td>\n",
       "      <td>769.0</td>\n",
       "      <td>1.981056</td>\n",
       "      <td>2.167063</td>\n",
       "      <td>11.027789</td>\n",
       "    </tr>\n",
       "    <tr>\n",
       "      <th>1</th>\n",
       "      <td>ID_5e43c29e6279884e2827d894</td>\n",
       "      <td>164422.0</td>\n",
       "      <td>10841.0</td>\n",
       "      <td>4320985.0</td>\n",
       "      <td>1.0</td>\n",
       "      <td>1115.0</td>\n",
       "      <td>9.118905</td>\n",
       "      <td>4.0</td>\n",
       "      <td>2.695326</td>\n",
       "      <td>2.953855</td>\n",
       "      <td>12.267206</td>\n",
       "    </tr>\n",
       "    <tr>\n",
       "      <th>2</th>\n",
       "      <td>ID_5e4e7b480e374330ee151305</td>\n",
       "      <td>213592.0</td>\n",
       "      <td>10940.0</td>\n",
       "      <td>5425830.0</td>\n",
       "      <td>33.0</td>\n",
       "      <td>24103.0</td>\n",
       "      <td>8.915555</td>\n",
       "      <td>105.0</td>\n",
       "      <td>2.778545</td>\n",
       "      <td>2.419012</td>\n",
       "      <td>13.166490</td>\n",
       "    </tr>\n",
       "    <tr>\n",
       "      <th>3</th>\n",
       "      <td>ID_5e8ad56cd4090270567b6c58</td>\n",
       "      <td>556700.0</td>\n",
       "      <td>39586.0</td>\n",
       "      <td>12001897.0</td>\n",
       "      <td>155.0</td>\n",
       "      <td>0.0</td>\n",
       "      <td>8.045458</td>\n",
       "      <td>0.0</td>\n",
       "      <td>2.141866</td>\n",
       "      <td>2.260493</td>\n",
       "      <td>12.068332</td>\n",
       "    </tr>\n",
       "    <tr>\n",
       "      <th>4</th>\n",
       "      <td>ID_5e8b4f12d8709943490cd775</td>\n",
       "      <td>172329.0</td>\n",
       "      <td>9278.0</td>\n",
       "      <td>3373154.0</td>\n",
       "      <td>1.0</td>\n",
       "      <td>0.0</td>\n",
       "      <td>7.498799</td>\n",
       "      <td>2.0</td>\n",
       "      <td>1.913960</td>\n",
       "      <td>3.844601</td>\n",
       "      <td>13.538191</td>\n",
       "    </tr>\n",
       "  </tbody>\n",
       "</table>\n",
       "</div>"
      ],
      "text/plain": [
       "                            ID  impressions    clicks        cost  \\\n",
       "0  ID_5da86e71bf5dee4cf5047046    1366246.0  117103.0  19151427.0   \n",
       "1  ID_5e43c29e6279884e2827d894     164422.0   10841.0   4320985.0   \n",
       "2  ID_5e4e7b480e374330ee151305     213592.0   10940.0   5425830.0   \n",
       "3  ID_5e8ad56cd4090270567b6c58     556700.0   39586.0  12001897.0   \n",
       "4  ID_5e8b4f12d8709943490cd775     172329.0    9278.0   3373154.0   \n",
       "\n",
       "   conversions  duration  impression_share  conversions_calls  headline1_len  \\\n",
       "0         68.0   70766.0         17.920390              769.0       1.981056   \n",
       "1          1.0    1115.0          9.118905                4.0       2.695326   \n",
       "2         33.0   24103.0          8.915555              105.0       2.778545   \n",
       "3        155.0       0.0          8.045458                0.0       2.141866   \n",
       "4          1.0       0.0          7.498799                2.0       1.913960   \n",
       "\n",
       "   headline2_len  ad_description_len  \n",
       "0       2.167063           11.027789  \n",
       "1       2.953855           12.267206  \n",
       "2       2.419012           13.166490  \n",
       "3       2.260493           12.068332  \n",
       "4       3.844601           13.538191  "
      ]
     },
     "execution_count": 12,
     "metadata": {},
     "output_type": "execute_result"
    }
   ],
   "source": [
    "# Correcting the aggregation code\n",
    "aggregated_data = train_data.groupby('ID').agg({\n",
    "    'impressions': 'sum',\n",
    "    'clicks': 'sum',\n",
    "    'cost': 'sum',\n",
    "    'conversions': 'sum',\n",
    "    'duration': 'sum',\n",
    "    'impression_share': 'mean',  # mean might be more informative for share metrics\n",
    "    'conversions_calls': 'sum',\n",
    "    'headline1_len': 'mean',  # average length across ads\n",
    "    'headline2_len': 'mean',\n",
    "    'ad_description_len': 'mean'  # average length of ad descriptions\n",
    "}).reset_index()\n",
    "\n",
    "# Display the aggregated data to ensure it's aggregated correctly\n",
    "aggregated_data.head()"
   ]
  },
  {
   "cell_type": "markdown",
   "id": "a7358346",
   "metadata": {
    "papermill": {
     "duration": 0.009947,
     "end_time": "2024-05-26T23:44:07.871829",
     "exception": false,
     "start_time": "2024-05-26T23:44:07.861882",
     "status": "completed"
    },
    "tags": []
   },
   "source": [
    "The data has been successfully aggregated by ID, summing up values for impressions, clicks, cost, conversions, and duration. We also calculated the mean for impression_share, headline1_len, headline2_len, and ad_description_len.\n",
    "\n",
    "Next, let's conduct the sensitivity analysis. We will investigate how changes in the top five variables affect the total number of clicks (clicks). For this, we will use techniques such as partial dependence plots or other appropriate methods to assess the impact of each variable on clicks independently. This will help us understand how much each of these variables needs to change to potentially improve the total number of clicks."
   ]
  },
  {
   "cell_type": "markdown",
   "id": "e1262b9d",
   "metadata": {
    "papermill": {
     "duration": 0.009779,
     "end_time": "2024-05-26T23:44:07.891612",
     "exception": false,
     "start_time": "2024-05-26T23:44:07.881833",
     "status": "completed"
    },
    "tags": []
   },
   "source": [
    "To perform the sensitivity analysis, we will first identify the top five variables that most strongly correlate with the number of clicks. After identifying these variables, we will use sensitivity analysis techniques to determine how changes in these variables could potentially influence the number of clicks.\n",
    "\n",
    "Here’s the plan:\n",
    "\n",
    "1) Identify the top five most influential variables based on correlation with clicks.\n",
    "\n",
    "2) Perform sensitivity analysis on these variables to understand their independent effect on clicks."
   ]
  },
  {
   "cell_type": "code",
   "execution_count": 13,
   "id": "ef53b66c",
   "metadata": {
    "execution": {
     "iopub.execute_input": "2024-05-26T23:44:07.913146Z",
     "iopub.status.busy": "2024-05-26T23:44:07.912716Z",
     "iopub.status.idle": "2024-05-26T23:44:07.924713Z",
     "shell.execute_reply": "2024-05-26T23:44:07.923862Z"
    },
    "papermill": {
     "duration": 0.025167,
     "end_time": "2024-05-26T23:44:07.926640",
     "exception": false,
     "start_time": "2024-05-26T23:44:07.901473",
     "status": "completed"
    },
    "tags": []
   },
   "outputs": [
    {
     "data": {
      "text/plain": [
       "(Index(['impressions', 'cost', 'conversions_calls', 'duration', 'conversions'], dtype='object'),\n",
       " impressions          0.794944\n",
       " cost                 0.570198\n",
       " conversions_calls    0.388570\n",
       " duration             0.360603\n",
       " conversions          0.300673\n",
       " Name: clicks, dtype: float64)"
      ]
     },
     "execution_count": 13,
     "metadata": {},
     "output_type": "execute_result"
    }
   ],
   "source": [
    "# Select only numeric columns for calculating the correlation matrix\n",
    "numeric_data = aggregated_data.select_dtypes(include=['number'])\n",
    "\n",
    "# Calculate the correlation matrix\n",
    "correlation_matrix = numeric_data.corr()\n",
    "\n",
    "# Extract the correlation of all variables with 'clicks'\n",
    "clicks_correlation = correlation_matrix['clicks'].sort_values(ascending=False)\n",
    "\n",
    "# Display the top five variables most correlated with clicks\n",
    "top_five_variables = clicks_correlation.index[1:6]  # Skipping the first index because it will be 'clicks' itself\n",
    "top_five_variables, clicks_correlation[top_five_variables]"
   ]
  },
  {
   "cell_type": "markdown",
   "id": "ff514a30",
   "metadata": {
    "papermill": {
     "duration": 0.010063,
     "end_time": "2024-05-26T23:44:07.947118",
     "exception": false,
     "start_time": "2024-05-26T23:44:07.937055",
     "status": "completed"
    },
    "tags": []
   },
   "source": [
    "***The top five variables most strongly correlated with clicks are:****\n",
    "\n",
    "**Impressions**: Correlation coefficient of 0.795\n",
    "\n",
    "**Cost**: Correlation coefficient of 0.570\n",
    "\n",
    "**Conversions Calls**: Correlation coefficient of 0.389\n",
    "\n",
    "**Duration**: Correlation coefficient of 0.361\n",
    "\n",
    "**Conversions**: Correlation coefficient of 0.301"
   ]
  },
  {
   "cell_type": "markdown",
   "id": "88e0a988",
   "metadata": {
    "papermill": {
     "duration": 0.010539,
     "end_time": "2024-05-26T23:44:07.967644",
     "exception": false,
     "start_time": "2024-05-26T23:44:07.957105",
     "status": "completed"
    },
    "tags": []
   },
   "source": [
    "*Next, I will perform a sensitivity analysis on these variables. USING **partial dependence plots (PDP)** to visually examine how changes in these variables might impact the number of clicks. This method will allow us to isolate the effect of each variable while averaging out the effects of others, providing a clearer view of each variable's impact on clicks.*"
   ]
  },
  {
   "cell_type": "code",
   "execution_count": 14,
   "id": "6760aabb",
   "metadata": {
    "execution": {
     "iopub.execute_input": "2024-05-26T23:44:07.989618Z",
     "iopub.status.busy": "2024-05-26T23:44:07.988929Z",
     "iopub.status.idle": "2024-05-26T23:44:07.997290Z",
     "shell.execute_reply": "2024-05-26T23:44:07.996296Z"
    },
    "papermill": {
     "duration": 0.021579,
     "end_time": "2024-05-26T23:44:07.999361",
     "exception": false,
     "start_time": "2024-05-26T23:44:07.977782",
     "status": "completed"
    },
    "tags": []
   },
   "outputs": [],
   "source": [
    "# Selecting a subset of the data for the analysis to avoid high computational cost\n",
    "sample_data = aggregated_data.sample(n=min(1000, len(aggregated_data)), random_state=42)\n",
    "\n",
    "# Define features and target\n",
    "X = sample_data[list(top_five_variables)]\n",
    "y = sample_data['clicks']"
   ]
  },
  {
   "cell_type": "code",
   "execution_count": 15,
   "id": "04b33481",
   "metadata": {
    "execution": {
     "iopub.execute_input": "2024-05-26T23:44:08.021243Z",
     "iopub.status.busy": "2024-05-26T23:44:08.020896Z",
     "iopub.status.idle": "2024-05-26T23:44:08.025372Z",
     "shell.execute_reply": "2024-05-26T23:44:08.024356Z"
    },
    "papermill": {
     "duration": 0.017689,
     "end_time": "2024-05-26T23:44:08.027300",
     "exception": false,
     "start_time": "2024-05-26T23:44:08.009611",
     "status": "completed"
    },
    "tags": []
   },
   "outputs": [],
   "source": [
    "import matplotlib.pyplot as plt\n",
    "from sklearn.ensemble import GradientBoostingRegressor"
   ]
  },
  {
   "cell_type": "code",
   "execution_count": 16,
   "id": "a724f11f",
   "metadata": {
    "execution": {
     "iopub.execute_input": "2024-05-26T23:44:08.048360Z",
     "iopub.status.busy": "2024-05-26T23:44:08.048091Z",
     "iopub.status.idle": "2024-05-26T23:44:10.059263Z",
     "shell.execute_reply": "2024-05-26T23:44:10.058130Z"
    },
    "papermill": {
     "duration": 2.025418,
     "end_time": "2024-05-26T23:44:10.062680",
     "exception": false,
     "start_time": "2024-05-26T23:44:08.037262",
     "status": "completed"
    },
    "tags": []
   },
   "outputs": [
    {
     "data": {
      "image/png": "[encoded data removed]",
      "text/plain": [
       "<Figure size 1400x1500 with 11 Axes>"
      ]
     },
     "metadata": {},
     "output_type": "display_data"
    }
   ],
   "source": [
    "from sklearn.inspection import PartialDependenceDisplay\n",
    "\n",
    "# Train a CATBOOST model again for demonstration\n",
    "model = CatBoostRegressor(n_estimators =45,learning_rate = 0.04, verbose=0, random_state=42)\n",
    "model.fit(X, y)\n",
    "\n",
    "# Create partial dependence plots for the top five variables using the new method\n",
    "fig, axs = plt.subplots(ncols=2, nrows=3, figsize=(14, 15))\n",
    "for i, var in enumerate(top_five_variables):\n",
    "    disp = PartialDependenceDisplay.from_estimator(model, X, features=[var], ax=axs[i//2, i%2], line_kw={'color': 'red'})\n",
    "    axs[i//2, i%2].set_title(f'Partial Dependence Plot: {var}')\n",
    "\n",
    "# Adjust layout and display the plots\n",
    "fig.tight_layout()\n",
    "plt.show()\n"
   ]
  },
  {
   "cell_type": "markdown",
   "id": "9ad0c9b8",
   "metadata": {
    "papermill": {
     "duration": 0.012628,
     "end_time": "2024-05-26T23:44:10.088456",
     "exception": false,
     "start_time": "2024-05-26T23:44:10.075828",
     "status": "completed"
    },
    "tags": []
   },
   "source": [
    "**The partial dependence plots provide valuable insights into how each of the top variables affects the predicted number of clicks independently, while holding other variables constant at their average values. Let’s analyze each plot in detail:**\n",
    "\n",
    "### 1. Impressions\n",
    "- **Observation**: The plot shows a clear and consistent upward trend. As the number of impressions increases, the predicted number of clicks also increases.\n",
    "- **Interpretation**: This suggests a strong positive relationship between the number of impressions and clicks. Increasing impressions generally leads to more clicks, which can be due to higher exposure and reach of the ad.\n",
    "\n",
    "### 2. Cost\n",
    "- **Observation**: There is a progressive increase in predicted clicks with increasing costs, with a few plateau phases followed by sharp increases.\n",
    "- **Interpretation**: The steps or jumps in the plot may indicate thresholds in spending after which additional increments in budget contribute to noticeable increases in clicks. This could be tied to bidding strategies in ad placements, where certain budget thresholds allow for better ad placements or more competitive bids.\n",
    "\n",
    "### 3. Conversions Calls\n",
    "- **Observation**: The number of clicks increases steeply as the number of conversions from calls increases initially, and then it plateaus after a certain point.\n",
    "- **Interpretation**: This indicates that conversions from calls have a significant impact on clicks up to a certain level. After reaching this level, further increases in conversions from calls do not significantly impact the number of clicks, suggesting a saturation point where other factors might limit further gains.\n",
    "\n",
    "### 4. Duration\n",
    "- **Observation**: Similar to conversions from calls, there's an initial sharp increase in clicks as the duration increases, followed by a plateau.\n",
    "- **Interpretation**: This shows that longer interactions or engagements (as measured by duration) are associated with higher clicks initially, which could indicate effective engagement with interested users. The plateau suggests a maximum effectiveness threshold for duration beyond which additional time does not translate into more clicks.\n",
    "\n",
    "### 5. Conversions\n",
    "- **Observation**: The clicks increase sharply with a small initial increase in conversions and then level off for the rest of the conversions range.\n",
    "- **Interpretation**: The initial sharp increase can be interpreted as a strong sensitivity of clicks to conversions at lower levels of conversions. Once a certain number of conversions is achieved, further increases do not significantly affect the number of clicks, indicating a diminishing return on further conversions in terms of generating additional clicks.\n",
    "\n",
    "### Summary\n",
    "These plots suggest that focusing on increasing impressions and managing costs effectively could yield the most significant improvements in clicks. The effects of conversions from calls and duration also indicate valuable strategies but have clear limits to their effectiveness. Managing these variables effectively can help optimize ad campaigns to maximize clicks.\n",
    "\n"
   ]
  },
  {
   "cell_type": "code",
   "execution_count": null,
   "id": "5affaa5c",
   "metadata": {
    "papermill": {
     "duration": 0.011558,
     "end_time": "2024-05-26T23:44:10.112131",
     "exception": false,
     "start_time": "2024-05-26T23:44:10.100573",
     "status": "completed"
    },
    "tags": []
   },
   "outputs": [],
   "source": []
  }
 ],
 "metadata": {
  "kaggle": {
   "accelerator": "gpu",
   "dataSources": [
    {
     "datasetId": 4798354,
     "sourceId": 8120705,
     "sourceType": "datasetVersion"
    },
    {
     "datasetId": 5090972,
     "sourceId": 8525462,
     "sourceType": "datasetVersion"
    }
   ],
   "dockerImageVersionId": 30683,
   "isGpuEnabled": true,
   "isInternetEnabled": true,
   "language": "python",
   "sourceType": "notebook"
  },
  "kernelspec": {
   "display_name": "Python 3",
   "language": "python",
   "name": "python3"
  },
  "language_info": {
   "codemirror_mode": {
    "name": "ipython",
    "version": 3
   },
   "file_extension": ".py",
   "mimetype": "text/x-python",
   "name": "python",
   "nbconvert_exporter": "python",
   "pygments_lexer": "ipython3",
   "version": "3.10.13"
  },
  "papermill": {
   "default_parameters": {},
   "duration": 21.924469,
   "end_time": "2024-05-26T23:44:10.743789",
   "environment_variables": {},
   "exception": null,
   "input_path": "__notebook__.ipynb",
   "output_path": "__notebook__.ipynb",
   "parameters": {},
   "start_time": "2024-05-26T23:43:48.819320",
   "version": "2.5.0"
  }
 },
 "nbformat": 4,
 "nbformat_minor": 5
}
